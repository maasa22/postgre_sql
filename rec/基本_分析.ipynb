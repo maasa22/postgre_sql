{
 "cells": [
  {
   "cell_type": "code",
   "execution_count": 46,
   "metadata": {
    "collapsed": false
   },
   "outputs": [
    {
     "data": {
      "text/plain": [
       "'\\n回帰なら最小二乗回帰(OLS)   #regression\\n分類ならロジスティック回帰  #classification\\nクラスタリングならK-means #clustering\\n\\nが第一選択。それぞれで対応できなければ随時選択肢を増やしていく。by @TJO_datasci\\nhttps://pythondatascience.plavox.info/scikit-learn/%E7%B7%9A%E5%BD%A2%E5%9B%9E%E5%B8%B0\\n'"
      ]
     },
     "execution_count": 46,
     "metadata": {},
     "output_type": "execute_result"
    }
   ],
   "source": [
    "'''\n",
    "回帰なら最小二乗回帰(OLS)   #regression\n",
    "分類ならロジスティック回帰  #classification\n",
    "クラスタリングならK-means #clustering\n",
    "\n",
    "が第一選択。それぞれで対応できなければ随時選択肢を増やしていく。by @TJO_datasci\n",
    "https://pythondatascience.plavox.info/scikit-learn/%E7%B7%9A%E5%BD%A2%E5%9B%9E%E5%B8%B0\n",
    "\n",
    "https://pythondatascience.plavox.info/このサイトに基本はだいたい載っている。\n",
    "'''"
   ]
  },
  {
   "cell_type": "code",
   "execution_count": 47,
   "metadata": {
    "collapsed": true
   },
   "outputs": [],
   "source": [
    "#重回帰分析"
   ]
  },
  {
   "cell_type": "code",
   "execution_count": 48,
   "metadata": {
    "collapsed": false
   },
   "outputs": [
    {
     "data": {
      "text/html": [
       "<div>\n",
       "<style scoped>\n",
       "    .dataframe tbody tr th:only-of-type {\n",
       "        vertical-align: middle;\n",
       "    }\n",
       "\n",
       "    .dataframe tbody tr th {\n",
       "        vertical-align: top;\n",
       "    }\n",
       "\n",
       "    .dataframe thead th {\n",
       "        text-align: right;\n",
       "    }\n",
       "</style>\n",
       "<table border=\"1\" class=\"dataframe\">\n",
       "  <thead>\n",
       "    <tr style=\"text-align: right;\">\n",
       "      <th></th>\n",
       "      <th>fixed acidity</th>\n",
       "      <th>volatile acidity</th>\n",
       "      <th>citric acid</th>\n",
       "      <th>residual sugar</th>\n",
       "      <th>chlorides</th>\n",
       "      <th>free sulfur dioxide</th>\n",
       "      <th>total sulfur dioxide</th>\n",
       "      <th>density</th>\n",
       "      <th>pH</th>\n",
       "      <th>sulphates</th>\n",
       "      <th>alcohol</th>\n",
       "      <th>quality</th>\n",
       "    </tr>\n",
       "  </thead>\n",
       "  <tbody>\n",
       "    <tr>\n",
       "      <th>0</th>\n",
       "      <td>7.4</td>\n",
       "      <td>0.70</td>\n",
       "      <td>0.00</td>\n",
       "      <td>1.9</td>\n",
       "      <td>0.076</td>\n",
       "      <td>11.0</td>\n",
       "      <td>34.0</td>\n",
       "      <td>0.9978</td>\n",
       "      <td>3.51</td>\n",
       "      <td>0.56</td>\n",
       "      <td>9.4</td>\n",
       "      <td>5</td>\n",
       "    </tr>\n",
       "    <tr>\n",
       "      <th>1</th>\n",
       "      <td>7.8</td>\n",
       "      <td>0.88</td>\n",
       "      <td>0.00</td>\n",
       "      <td>2.6</td>\n",
       "      <td>0.098</td>\n",
       "      <td>25.0</td>\n",
       "      <td>67.0</td>\n",
       "      <td>0.9968</td>\n",
       "      <td>3.20</td>\n",
       "      <td>0.68</td>\n",
       "      <td>9.8</td>\n",
       "      <td>5</td>\n",
       "    </tr>\n",
       "    <tr>\n",
       "      <th>2</th>\n",
       "      <td>7.8</td>\n",
       "      <td>0.76</td>\n",
       "      <td>0.04</td>\n",
       "      <td>2.3</td>\n",
       "      <td>0.092</td>\n",
       "      <td>15.0</td>\n",
       "      <td>54.0</td>\n",
       "      <td>0.9970</td>\n",
       "      <td>3.26</td>\n",
       "      <td>0.65</td>\n",
       "      <td>9.8</td>\n",
       "      <td>5</td>\n",
       "    </tr>\n",
       "    <tr>\n",
       "      <th>3</th>\n",
       "      <td>11.2</td>\n",
       "      <td>0.28</td>\n",
       "      <td>0.56</td>\n",
       "      <td>1.9</td>\n",
       "      <td>0.075</td>\n",
       "      <td>17.0</td>\n",
       "      <td>60.0</td>\n",
       "      <td>0.9980</td>\n",
       "      <td>3.16</td>\n",
       "      <td>0.58</td>\n",
       "      <td>9.8</td>\n",
       "      <td>6</td>\n",
       "    </tr>\n",
       "    <tr>\n",
       "      <th>4</th>\n",
       "      <td>7.4</td>\n",
       "      <td>0.70</td>\n",
       "      <td>0.00</td>\n",
       "      <td>1.9</td>\n",
       "      <td>0.076</td>\n",
       "      <td>11.0</td>\n",
       "      <td>34.0</td>\n",
       "      <td>0.9978</td>\n",
       "      <td>3.51</td>\n",
       "      <td>0.56</td>\n",
       "      <td>9.4</td>\n",
       "      <td>5</td>\n",
       "    </tr>\n",
       "  </tbody>\n",
       "</table>\n",
       "</div>"
      ],
      "text/plain": [
       "   fixed acidity  volatile acidity  citric acid  residual sugar  chlorides  \\\n",
       "0            7.4              0.70         0.00             1.9      0.076   \n",
       "1            7.8              0.88         0.00             2.6      0.098   \n",
       "2            7.8              0.76         0.04             2.3      0.092   \n",
       "3           11.2              0.28         0.56             1.9      0.075   \n",
       "4            7.4              0.70         0.00             1.9      0.076   \n",
       "\n",
       "   free sulfur dioxide  total sulfur dioxide  density    pH  sulphates  \\\n",
       "0                 11.0                  34.0   0.9978  3.51       0.56   \n",
       "1                 25.0                  67.0   0.9968  3.20       0.68   \n",
       "2                 15.0                  54.0   0.9970  3.26       0.65   \n",
       "3                 17.0                  60.0   0.9980  3.16       0.58   \n",
       "4                 11.0                  34.0   0.9978  3.51       0.56   \n",
       "\n",
       "   alcohol  quality  \n",
       "0      9.4        5  \n",
       "1      9.8        5  \n",
       "2      9.8        5  \n",
       "3      9.8        6  \n",
       "4      9.4        5  "
      ]
     },
     "execution_count": 48,
     "metadata": {},
     "output_type": "execute_result"
    }
   ],
   "source": [
    "import pandas as pd\n",
    "import numpy as np\n",
    "wine = pd.read_csv(\"./input/regression_winequality-red.csv\", sep=\";\")\n",
    "wine.head()"
   ]
  },
  {
   "cell_type": "code",
   "execution_count": 49,
   "metadata": {
    "collapsed": false
   },
   "outputs": [
    {
     "data": {
      "text/plain": [
       "Index(['fixed acidity', 'volatile acidity', 'citric acid', 'residual sugar',\n",
       "       'chlorides', 'free sulfur dioxide', 'total sulfur dioxide', 'density',\n",
       "       'pH', 'sulphates', 'alcohol', 'quality'],\n",
       "      dtype='object')"
      ]
     },
     "execution_count": 49,
     "metadata": {},
     "output_type": "execute_result"
    }
   ],
   "source": [
    "wine.columns"
   ]
  },
  {
   "cell_type": "code",
   "execution_count": 50,
   "metadata": {
    "collapsed": false
   },
   "outputs": [
    {
     "name": "stdout",
     "output_type": "stream",
     "text": [
      "[alcohol] = [-280.16382307] * [density] + 289.675343383\n",
      "決定係数: 0.246194364397\n"
     ]
    },
    {
     "name": "stderr",
     "output_type": "stream",
     "text": [
      "/Users/masaki/.pyenv/versions/anaconda3-4.2.0/lib/python3.5/site-packages/ipykernel/__main__.py:7: FutureWarning: Method .as_matrix will be removed in a future version. Use .values instead.\n",
      "/Users/masaki/.pyenv/versions/anaconda3-4.2.0/lib/python3.5/site-packages/ipykernel/__main__.py:10: FutureWarning: Method .as_matrix will be removed in a future version. Use .values instead.\n"
     ]
    }
   ],
   "source": [
    "#まずは単回帰分析\n",
    "# sklearn.linear_model.LinearRegression クラスを読み込み\n",
    "from sklearn import linear_model\n",
    "clf = linear_model.LinearRegression()\n",
    " \n",
    "# 説明変数に \"density (濃度)\" を利用\n",
    "X = wine.loc[:, ['density']].as_matrix()\n",
    " \n",
    "# 目的変数に \"alcohol (アルコール度数)\" を利用\n",
    "Y = wine['alcohol'].as_matrix()\n",
    " \n",
    "# 予測モデルを作成\n",
    "clf.fit(X, Y)\n",
    " \n",
    "# # 回帰係数\n",
    "# print(clf.coef_)\n",
    " \n",
    "# # 切片 (誤差)\n",
    "# print(clf.intercept_)\n",
    " \n",
    "# # 決定係数\n",
    "# print(clf.score(X, Y))\n",
    "\n",
    "print(\"[alcohol] = \" + str(clf.coef_) + \" * [density] + \" +str(clf.intercept_))\n",
    "print(\"決定係数: \" + str(clf.score(X, Y)))"
   ]
  },
  {
   "cell_type": "code",
   "execution_count": 51,
   "metadata": {
    "collapsed": false
   },
   "outputs": [
    {
     "data": {
      "text/plain": [
       "[<matplotlib.lines.Line2D at 0x113c98438>]"
      ]
     },
     "execution_count": 51,
     "metadata": {},
     "output_type": "execute_result"
    },
    {
     "data": {
      "image/png": "[encoded data removed]",
      "text/plain": [
       "<matplotlib.figure.Figure at 0x11a0ce668>"
      ]
     },
     "metadata": {},
     "output_type": "display_data"
    }
   ],
   "source": [
    "# matplotlib パッケージを読み込み\n",
    "import matplotlib.pyplot as plt\n",
    "%matplotlib inline\n",
    "\n",
    "# 散布図\n",
    "plt.scatter(X, Y)\n",
    " \n",
    "# 回帰直線\n",
    "plt.plot(X, clf.predict(X))"
   ]
  },
  {
   "cell_type": "code",
   "execution_count": 52,
   "metadata": {
    "collapsed": false
   },
   "outputs": [
    {
     "name": "stdout",
     "output_type": "stream",
     "text": [
      "    Coefficients                  Name\n",
      "7     -17.881164               density\n",
      "4      -1.874225             chlorides\n",
      "1      -1.083590      volatile acidity\n",
      "8      -0.413653                    pH\n",
      "2      -0.182564           citric acid\n",
      "6      -0.003265  total sulfur dioxide\n",
      "5       0.004361   free sulfur dioxide\n",
      "3       0.016331        residual sugar\n",
      "0       0.024991         fixed acidity\n",
      "10      0.276198               alcohol\n",
      "9       0.916334             sulphates\n",
      "21.9652084495\n",
      "決定係数: 0.360551703039\n"
     ]
    },
    {
     "name": "stderr",
     "output_type": "stream",
     "text": [
      "/Users/masaki/.pyenv/versions/anaconda3-4.2.0/lib/python3.5/site-packages/ipykernel/__main__.py:7: FutureWarning: Method .as_matrix will be removed in a future version. Use .values instead.\n",
      "/Users/masaki/.pyenv/versions/anaconda3-4.2.0/lib/python3.5/site-packages/ipykernel/__main__.py:10: FutureWarning: Method .as_matrix will be removed in a future version. Use .values instead.\n"
     ]
    }
   ],
   "source": [
    "#重回帰分析\n",
    "from sklearn import linear_model\n",
    "clf = linear_model.LinearRegression()\n",
    " \n",
    "# 説明変数に \"quality (品質スコア以外すべて)\" を利用\n",
    "wine_except_quality = wine.drop(\"quality\", axis=1)\n",
    "X = wine_except_quality.as_matrix()\n",
    " \n",
    "# 目的変数に \"quality (品質スコア)\" を利用\n",
    "Y = wine['quality'].as_matrix()\n",
    " \n",
    "# 予測モデルを作成\n",
    "clf.fit(X, Y)\n",
    " \n",
    "# 偏回帰係数\n",
    "print(pd.DataFrame({\"Name\":wine_except_quality.columns,\n",
    "                    \"Coefficients\":clf.coef_}).sort_values(by='Coefficients') )\n",
    " \n",
    "# 切片 (誤差)\n",
    "print(clf.intercept_)\n",
    "\n",
    "print(\"決定係数: \" + str(clf.score(X, Y)))"
   ]
  },
  {
   "cell_type": "code",
   "execution_count": 53,
   "metadata": {
    "collapsed": false
   },
   "outputs": [
    {
     "name": "stdout",
     "output_type": "stream",
     "text": [
      "    Coefficients                  Name\n",
      "2       0.036513           citric acid\n",
      "3       0.047687        residual sugar\n",
      "7       0.048708               density\n",
      "0       0.056479         fixed acidity\n",
      "5       0.061931   free sulfur dioxide\n",
      "8       0.105068                    pH\n",
      "6       0.184775  total sulfur dioxide\n",
      "4       0.224532             chlorides\n",
      "9       0.306056             sulphates\n",
      "1       0.316408      volatile acidity\n",
      "10      0.359057               alcohol\n",
      "1.27015586565e-15\n",
      "決定係数: 0.360551703039\n"
     ]
    },
    {
     "name": "stderr",
     "output_type": "stream",
     "text": [
      "/Users/masaki/.pyenv/versions/anaconda3-4.2.0/lib/python3.5/site-packages/ipykernel/__main__.py:11: FutureWarning: Method .as_matrix will be removed in a future version. Use .values instead.\n",
      "/Users/masaki/.pyenv/versions/anaconda3-4.2.0/lib/python3.5/site-packages/ipykernel/__main__.py:14: FutureWarning: Method .as_matrix will be removed in a future version. Use .values instead.\n"
     ]
    }
   ],
   "source": [
    "#正規化して重回帰分析\n",
    "from sklearn import linear_model\n",
    "clf = linear_model.LinearRegression()\n",
    " \n",
    "# データフレームの各列を正規化\n",
    "wine2 = wine.apply(lambda x: (x - np.mean(x)) / (np.max(x) - np.min(x)))\n",
    "wine2.head()\n",
    " \n",
    "# 説明変数に \"quality (品質スコア以外すべて)\" を利用\n",
    "wine2_except_quality = wine2.drop(\"quality\", axis=1)\n",
    "X = wine2_except_quality.as_matrix()\n",
    " \n",
    "# 目的変数に \"quality (品質スコア)\" を利用\n",
    "Y = wine2['quality'].as_matrix()\n",
    " \n",
    "# 予測モデルを作成\n",
    "clf.fit(X, Y)\n",
    " \n",
    "# 偏回帰係数\n",
    "print(pd.DataFrame({\"Name\":wine2_except_quality.columns,\n",
    "                    \"Coefficients\":np.abs(clf.coef_)}).sort_values(by='Coefficients') )\n",
    " \n",
    "# 切片 (誤差)\n",
    "print(clf.intercept_)\n",
    "\n",
    "print(\"決定係数: \" + str(clf.score(X, Y)))"
   ]
  },
  {
   "cell_type": "code",
   "execution_count": 54,
   "metadata": {
    "collapsed": true
   },
   "outputs": [],
   "source": [
    "#ロジスティック回帰??"
   ]
  },
  {
   "cell_type": "code",
   "execution_count": 55,
   "metadata": {
    "collapsed": true
   },
   "outputs": [],
   "source": [
    "#https://qiita.com/hik0107/items/9b6e1e989f4eaefdc31d\n",
    "#http://ailaby.com/logistic_reg/"
   ]
  },
  {
   "cell_type": "code",
   "execution_count": 80,
   "metadata": {
    "collapsed": false
   },
   "outputs": [
    {
     "name": "stdout",
     "output_type": "stream",
     "text": [
      "回帰係数: [[ 0.04173437  0.38078122]]\n",
      "切片: [-1.76161523]\n",
      "決定係数: 0.818181818182\n",
      "検証結果： [0 1 1 0]\n",
      "['train.learn']\n",
      "0.666666666667\n"
     ]
    },
    {
     "name": "stderr",
     "output_type": "stream",
     "text": [
      "/Users/masaki/.pyenv/versions/anaconda3-4.2.0/lib/python3.5/site-packages/ipykernel/__main__.py:12: FutureWarning: Method .as_matrix will be removed in a future version. Use .values instead.\n",
      "/Users/masaki/.pyenv/versions/anaconda3-4.2.0/lib/python3.5/site-packages/ipykernel/__main__.py:15: FutureWarning: Method .as_matrix will be removed in a future version. Use .values instead.\n",
      "/Users/masaki/.pyenv/versions/anaconda3-4.2.0/lib/python3.5/site-packages/ipykernel/__main__.py:32: FutureWarning: Method .as_matrix will be removed in a future version. Use .values instead.\n"
     ]
    }
   ],
   "source": [
    "# -*- coding: utf-8 -*-\n",
    "import pandas as pd\n",
    "import numpy as np\n",
    "from sklearn import linear_model\n",
    "from sklearn.externals import joblib\n",
    "\n",
    "def main():\n",
    "    # 学習用のデータを読み込み\n",
    "    data = pd.read_csv(\"./input/classification_train.csv\", sep=\",\") #if x1+x2>=1: x3=1, else: x3=0\n",
    "\n",
    "    # 説明変数：x1, x2\n",
    "    X = data.loc[:, ['x1', 'x2']].as_matrix()\n",
    "\n",
    "    # 目的変数：x3\n",
    "    y = data['x3'].as_matrix()\n",
    "\n",
    "    # 学習（ロジスティック回帰）\n",
    "    clf = linear_model.LogisticRegression(random_state=0)\n",
    "    clf.fit(X, y)\n",
    "\n",
    "    # ロジスティック回帰の学習結果\n",
    "    a = clf.coef_\n",
    "    b = clf.intercept_  \n",
    "    print(\"回帰係数:\", a)\n",
    "    print(\"切片:\", b) \n",
    "    print(\"決定係数:\", clf.score(X, y))\n",
    "\n",
    "    # テスト用データの読み込み\n",
    "    data = pd.read_csv(\"./input/classification_test.csv\", sep=\",\")\n",
    "\n",
    "    # 学習結果の検証（テスト用データx1, x2を入力）\n",
    "    X_test = data.loc[:, ['x1', 'x2']].as_matrix()\n",
    "    y_predict = clf.predict(X_test)\n",
    "\n",
    "    # 検証結果の表示\n",
    "    print(\"検証結果：\", y_predict)\n",
    "    \n",
    "    # 学習結果を出力\n",
    "    print(joblib.dump(clf, 'train.learn'))\n",
    "    \n",
    "    \n",
    "    \n",
    "    \n",
    "    # trainとtest用データ用意\n",
    "    X_train, X_test, Y_train, Y_test = train_test_split(X, y)\n",
    "\n",
    "    log_model2 = linear_model.LogisticRegression() \n",
    "    log_model2.fit(X_train, Y_train)           # trainデータでモデル作成\n",
    "    class_predict = log_model2.predict(X_test) # testデータを予測\n",
    "    \n",
    "    from sklearn import metrics # 予測精度確認用\n",
    "    print(metrics.accuracy_score(Y_test, class_predict)) # 精度確認\n",
    "    \n",
    "\n",
    "if __name__ == \"__main__\":\n",
    "    main()"
   ]
  },
  {
   "cell_type": "code",
   "execution_count": 81,
   "metadata": {
    "collapsed": true
   },
   "outputs": [],
   "source": [
    "#k-means"
   ]
  },
  {
   "cell_type": "code",
   "execution_count": 82,
   "metadata": {
    "collapsed": true
   },
   "outputs": [],
   "source": [
    "#https://pythondatascience.plavox.info/scikit-learn/%E3%82%AF%E3%83%A9%E3%82%B9%E3%82%BF%E5%88%86%E6%9E%90-k-means"
   ]
  },
  {
   "cell_type": "code",
   "execution_count": 88,
   "metadata": {
    "collapsed": false
   },
   "outputs": [
    {
     "data": {
      "text/html": [
       "<div>\n",
       "<style scoped>\n",
       "    .dataframe tbody tr th:only-of-type {\n",
       "        vertical-align: middle;\n",
       "    }\n",
       "\n",
       "    .dataframe tbody tr th {\n",
       "        vertical-align: top;\n",
       "    }\n",
       "\n",
       "    .dataframe thead th {\n",
       "        text-align: right;\n",
       "    }\n",
       "</style>\n",
       "<table border=\"1\" class=\"dataframe\">\n",
       "  <thead>\n",
       "    <tr style=\"text-align: right;\">\n",
       "      <th></th>\n",
       "      <th>Fresh</th>\n",
       "      <th>Milk</th>\n",
       "      <th>Grocery</th>\n",
       "      <th>Frozen</th>\n",
       "      <th>Detergents_Paper</th>\n",
       "      <th>Delicassen</th>\n",
       "    </tr>\n",
       "  </thead>\n",
       "  <tbody>\n",
       "    <tr>\n",
       "      <th>0</th>\n",
       "      <td>12669</td>\n",
       "      <td>9656</td>\n",
       "      <td>7561</td>\n",
       "      <td>214</td>\n",
       "      <td>2674</td>\n",
       "      <td>1338</td>\n",
       "    </tr>\n",
       "    <tr>\n",
       "      <th>1</th>\n",
       "      <td>7057</td>\n",
       "      <td>9810</td>\n",
       "      <td>9568</td>\n",
       "      <td>1762</td>\n",
       "      <td>3293</td>\n",
       "      <td>1776</td>\n",
       "    </tr>\n",
       "    <tr>\n",
       "      <th>2</th>\n",
       "      <td>6353</td>\n",
       "      <td>8808</td>\n",
       "      <td>7684</td>\n",
       "      <td>2405</td>\n",
       "      <td>3516</td>\n",
       "      <td>7844</td>\n",
       "    </tr>\n",
       "    <tr>\n",
       "      <th>3</th>\n",
       "      <td>13265</td>\n",
       "      <td>1196</td>\n",
       "      <td>4221</td>\n",
       "      <td>6404</td>\n",
       "      <td>507</td>\n",
       "      <td>1788</td>\n",
       "    </tr>\n",
       "    <tr>\n",
       "      <th>4</th>\n",
       "      <td>22615</td>\n",
       "      <td>5410</td>\n",
       "      <td>7198</td>\n",
       "      <td>3915</td>\n",
       "      <td>1777</td>\n",
       "      <td>5185</td>\n",
       "    </tr>\n",
       "  </tbody>\n",
       "</table>\n",
       "</div>"
      ],
      "text/plain": [
       "   Fresh  Milk  Grocery  Frozen  Detergents_Paper  Delicassen\n",
       "0  12669  9656     7561     214              2674        1338\n",
       "1   7057  9810     9568    1762              3293        1776\n",
       "2   6353  8808     7684    2405              3516        7844\n",
       "3  13265  1196     4221    6404               507        1788\n",
       "4  22615  5410     7198    3915              1777        5185"
      ]
     },
     "execution_count": 88,
     "metadata": {},
     "output_type": "execute_result"
    }
   ],
   "source": [
    "import pandas as pd\n",
    "import numpy as np\n",
    "from sklearn.cluster import KMeans\n",
    " \n",
    "# データセットを読み込み\n",
    "cust_df = pd.read_csv(\"http://pythondatascience.plavox.info/wp-content/uploads/2016/05/Wholesale_customers_data.csv\")\n",
    " \n",
    "# 不要なカラムを削除\n",
    "del(cust_df['Channel'])\n",
    "del(cust_df['Region'])\n",
    "cust_df.head()"
   ]
  },
  {
   "cell_type": "code",
   "execution_count": 90,
   "metadata": {
    "collapsed": false
   },
   "outputs": [
    {
     "data": {
      "text/plain": [
       "array([2, 2, 2, 2, 0, 2, 2, 2, 2, 1, 2, 2, 0, 0, 0, 2, 1, 2, 2, 2, 2, 2, 0,\n",
       "       3, 0, 2, 2, 2, 1, 0, 2, 2, 2, 0, 2, 2, 0, 1, 1, 0, 0, 2, 1, 1, 2, 1,\n",
       "       1, 3, 2, 1, 2, 2, 0, 1, 0, 2, 1, 1, 2, 2, 2, 3, 2, 1, 2, 1, 2, 2, 2,\n",
       "       2, 2, 2, 2, 2, 2, 2, 2, 1, 2, 2, 2, 1, 2, 2, 2, 3, 3, 0, 2, 0, 2, 2,\n",
       "       1, 2, 1, 2, 2, 2, 2, 2, 1, 1, 2, 0, 2, 2, 2, 1, 2, 1, 2, 1, 2, 2, 2,\n",
       "       2, 2, 2, 2, 2, 2, 2, 2, 2, 0, 0, 2, 0, 2, 0, 2, 2, 2, 2, 2, 2, 2, 2,\n",
       "       2, 2, 2, 0, 0, 2, 2, 1, 2, 2, 2, 0, 2, 2, 2, 2, 2, 1, 1, 2, 2, 1, 2,\n",
       "       2, 2, 1, 2, 1, 2, 2, 2, 2, 1, 1, 2, 1, 2, 1, 0, 2, 2, 2, 2, 3, 1, 3,\n",
       "       2, 2, 2, 2, 2, 1, 2, 2, 2, 1, 2, 2, 0, 2, 2, 2, 1, 1, 0, 2, 2, 1, 2,\n",
       "       2, 2, 1, 2, 1, 2, 2, 2, 1, 1, 2, 1, 2, 2, 2, 2, 2, 2, 2, 2, 2, 2, 2,\n",
       "       2, 2, 0, 2, 2, 2, 2, 2, 2, 0, 0, 0, 2, 2, 2, 1, 2, 2, 2, 2, 2, 1, 2,\n",
       "       0, 1, 0, 2, 2, 0, 0, 2, 2, 0, 2, 1, 1, 1, 2, 1, 2, 2, 2, 2, 0, 2, 2,\n",
       "       0, 2, 2, 2, 2, 2, 0, 0, 0, 0, 2, 2, 2, 0, 2, 2, 2, 1, 2, 2, 2, 2, 2,\n",
       "       2, 2, 1, 2, 1, 1, 1, 1, 2, 2, 1, 2, 0, 1, 2, 2, 1, 2, 2, 2, 1, 2, 2,\n",
       "       2, 2, 0, 0, 2, 2, 2, 2, 2, 1, 0, 1, 2, 0, 2, 2, 2, 2, 2, 2, 2, 1, 2,\n",
       "       2, 1, 0, 2, 1, 2, 1, 2, 1, 2, 2, 0, 1, 1, 2, 2, 2, 2, 2, 2, 2, 2, 2,\n",
       "       0, 2, 0, 2, 2, 2, 2, 2, 1, 0, 2, 2, 0, 2, 0, 2, 1, 2, 2, 2, 2, 2, 2,\n",
       "       2, 2, 0, 2, 2, 1, 2, 2, 2, 2, 0, 0, 0, 2, 2, 0, 1, 2, 2, 2, 2, 2, 2,\n",
       "       2, 2, 1, 2, 1, 2, 2, 2, 0, 2, 2, 2, 1, 0, 2, 2, 2, 2, 2, 2, 2, 0, 0,\n",
       "       1, 2, 2], dtype=int32)"
      ]
     },
     "execution_count": 90,
     "metadata": {},
     "output_type": "execute_result"
    }
   ],
   "source": [
    "# Pandas のデータフレームから Numpy の行列 (Array) に変換\n",
    "cust_array = np.array([cust_df['Fresh'].tolist(),\n",
    "                       cust_df['Milk'].tolist(),\n",
    "                       cust_df['Grocery'].tolist(),\n",
    "                       cust_df['Frozen'].tolist(),\n",
    "                       cust_df['Milk'].tolist(),\n",
    "                       cust_df['Detergents_Paper'].tolist(),\n",
    "                       cust_df['Delicassen'].tolist()\n",
    "                       ], np.int32)\n",
    "\n",
    "# 行列を転置\n",
    "cust_array = cust_array.T\n",
    " \n",
    "# クラスタ分析を実行 (クラスタ数=4)\n",
    "pred = KMeans(n_clusters=4).fit_predict(cust_array)\n",
    "pred"
   ]
  },
  {
   "cell_type": "code",
   "execution_count": 92,
   "metadata": {
    "collapsed": false
   },
   "outputs": [
    {
     "data": {
      "text/html": [
       "<div>\n",
       "<style scoped>\n",
       "    .dataframe tbody tr th:only-of-type {\n",
       "        vertical-align: middle;\n",
       "    }\n",
       "\n",
       "    .dataframe tbody tr th {\n",
       "        vertical-align: top;\n",
       "    }\n",
       "\n",
       "    .dataframe thead th {\n",
       "        text-align: right;\n",
       "    }\n",
       "</style>\n",
       "<table border=\"1\" class=\"dataframe\">\n",
       "  <thead>\n",
       "    <tr style=\"text-align: right;\">\n",
       "      <th></th>\n",
       "      <th>Fresh</th>\n",
       "      <th>Milk</th>\n",
       "      <th>Grocery</th>\n",
       "      <th>Frozen</th>\n",
       "      <th>Detergents_Paper</th>\n",
       "      <th>Delicassen</th>\n",
       "      <th>cluster_id</th>\n",
       "    </tr>\n",
       "  </thead>\n",
       "  <tbody>\n",
       "    <tr>\n",
       "      <th>0</th>\n",
       "      <td>12669</td>\n",
       "      <td>9656</td>\n",
       "      <td>7561</td>\n",
       "      <td>214</td>\n",
       "      <td>2674</td>\n",
       "      <td>1338</td>\n",
       "      <td>2</td>\n",
       "    </tr>\n",
       "    <tr>\n",
       "      <th>1</th>\n",
       "      <td>7057</td>\n",
       "      <td>9810</td>\n",
       "      <td>9568</td>\n",
       "      <td>1762</td>\n",
       "      <td>3293</td>\n",
       "      <td>1776</td>\n",
       "      <td>2</td>\n",
       "    </tr>\n",
       "    <tr>\n",
       "      <th>2</th>\n",
       "      <td>6353</td>\n",
       "      <td>8808</td>\n",
       "      <td>7684</td>\n",
       "      <td>2405</td>\n",
       "      <td>3516</td>\n",
       "      <td>7844</td>\n",
       "      <td>2</td>\n",
       "    </tr>\n",
       "    <tr>\n",
       "      <th>3</th>\n",
       "      <td>13265</td>\n",
       "      <td>1196</td>\n",
       "      <td>4221</td>\n",
       "      <td>6404</td>\n",
       "      <td>507</td>\n",
       "      <td>1788</td>\n",
       "      <td>2</td>\n",
       "    </tr>\n",
       "    <tr>\n",
       "      <th>4</th>\n",
       "      <td>22615</td>\n",
       "      <td>5410</td>\n",
       "      <td>7198</td>\n",
       "      <td>3915</td>\n",
       "      <td>1777</td>\n",
       "      <td>5185</td>\n",
       "      <td>0</td>\n",
       "    </tr>\n",
       "  </tbody>\n",
       "</table>\n",
       "</div>"
      ],
      "text/plain": [
       "   Fresh  Milk  Grocery  Frozen  Detergents_Paper  Delicassen  cluster_id\n",
       "0  12669  9656     7561     214              2674        1338           2\n",
       "1   7057  9810     9568    1762              3293        1776           2\n",
       "2   6353  8808     7684    2405              3516        7844           2\n",
       "3  13265  1196     4221    6404               507        1788           2\n",
       "4  22615  5410     7198    3915              1777        5185           0"
      ]
     },
     "execution_count": 92,
     "metadata": {},
     "output_type": "execute_result"
    }
   ],
   "source": [
    "#Kmeans完了。それぞれの特徴を確認。\n",
    "\n",
    "# Pandas のデータフレームにクラスタ番号を追加\n",
    "cust_df['cluster_id']=pred\n",
    "cust_df.head()"
   ]
  },
  {
   "cell_type": "code",
   "execution_count": 93,
   "metadata": {
    "collapsed": false
   },
   "outputs": [
    {
     "data": {
      "text/plain": [
       "2    291\n",
       "1     79\n",
       "0     63\n",
       "3      7\n",
       "Name: cluster_id, dtype: int64"
      ]
     },
     "execution_count": 93,
     "metadata": {},
     "output_type": "execute_result"
    }
   ],
   "source": [
    "# 各クラスタに属するサンプル数の分布\n",
    "cust_df['cluster_id'].value_counts()"
   ]
  },
  {
   "cell_type": "code",
   "execution_count": 98,
   "metadata": {
    "collapsed": false
   },
   "outputs": [
    {
     "name": "stdout",
     "output_type": "stream",
     "text": [
      "クラスタ番号: 0\n",
      "Fresh               33611.269841\n",
      "Milk                 4874.396825\n",
      "Grocery              5852.968254\n",
      "Frozen               5729.285714\n",
      "Detergents_Paper     1056.730159\n",
      "Delicassen           2119.587302\n",
      "cluster_id              0.000000\n",
      "dtype: float64\n",
      "クラスタ番号: 1\n",
      "Fresh                4899.607595\n",
      "Milk                12689.063291\n",
      "Grocery             19743.240506\n",
      "Frozen               1653.481013\n",
      "Detergents_Paper     8947.278481\n",
      "Delicassen           1718.000000\n",
      "cluster_id              1.000000\n",
      "dtype: float64\n",
      "クラスタ番号: 2\n",
      "Fresh               8524.848797\n",
      "Milk                3156.395189\n",
      "Grocery             4363.261168\n",
      "Frozen              2709.958763\n",
      "Detergents_Paper    1282.319588\n",
      "Delicassen          1087.085911\n",
      "cluster_id             2.000000\n",
      "dtype: float64\n",
      "クラスタ番号: 3\n",
      "Fresh               42117.285714\n",
      "Milk                46046.142857\n",
      "Grocery             42914.285714\n",
      "Frozen              10211.714286\n",
      "Detergents_Paper    17327.571429\n",
      "Delicassen          12192.142857\n",
      "cluster_id              3.000000\n",
      "dtype: float64\n"
     ]
    }
   ],
   "source": [
    "# 各クラスタの各部門商品の購買額の平均値\n",
    "for i in range(4):\n",
    "    print(\"クラスタ番号: \" + str(i))\n",
    "    cust_mean=cust_df[cust_df['cluster_id']==i].mean() # クラスタ番号 = i\n",
    "    print(cust_mean)"
   ]
  },
  {
   "cell_type": "code",
   "execution_count": 99,
   "metadata": {
    "collapsed": false
   },
   "outputs": [
    {
     "data": {
      "text/plain": [
       "[<matplotlib.text.Text at 0x119889c88>,\n",
       " <matplotlib.text.Text at 0x11a37d390>,\n",
       " <matplotlib.text.Text at 0x119d74fd0>,\n",
       " <matplotlib.text.Text at 0x119d7e828>]"
      ]
     },
     "execution_count": 99,
     "metadata": {},
     "output_type": "execute_result"
    },
    {
     "data": {
      "image/png": "[encoded data removed]",
      "text/plain": [
       "<matplotlib.figure.Figure at 0x11987d208>"
      ]
     },
     "metadata": {},
     "output_type": "display_data"
    }
   ],
   "source": [
    "# 可視化（積み上げ棒グラフ）\n",
    "import matplotlib.pyplot as plt\n",
    " \n",
    "clusterinfo = pd.DataFrame()\n",
    "for i in range(4):\n",
    "    clusterinfo['cluster' + str(i)] = cust_df[cust_df['cluster_id'] == i].mean()\n",
    "clusterinfo = clusterinfo.drop('cluster_id')\n",
    " \n",
    "my_plot = clusterinfo.T.plot(kind='bar', stacked=True, title=\"Mean Value of 4 Clusters\")\n",
    "my_plot.set_xticklabels(my_plot.xaxis.get_majorticklabels(), rotation=0)"
   ]
  },
  {
   "cell_type": "code",
   "execution_count": null,
   "metadata": {
    "collapsed": true
   },
   "outputs": [],
   "source": []
  }
 ],
 "metadata": {
  "anaconda-cloud": {},
  "kernelspec": {
   "display_name": "Python [conda root]",
   "language": "python",
   "name": "conda-root-py"
  },
  "language_info": {
   "codemirror_mode": {
    "name": "ipython",
    "version": 3
   },
   "file_extension": ".py",
   "mimetype": "text/x-python",
   "name": "python",
   "nbconvert_exporter": "python",
   "pygments_lexer": "ipython3",
   "version": "3.5.2"
  }
 },
 "nbformat": 4,
 "nbformat_minor": 1
}
